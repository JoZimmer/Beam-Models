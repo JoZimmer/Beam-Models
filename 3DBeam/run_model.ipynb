{
 "cells": [
  {
   "cell_type": "markdown",
   "metadata": {},
   "source": [
    "Include a coupled bending-torsion into a 3D Euler-Bernoulli Beam\n",
    "\n",
    "coordinate system: x -> longitudinal axis, y -> perpendicular\n",
    "\n",
    "The coupling is achived by introducing coupling terms into the stiffness matrix.\n",
    "Furthermore Material parameters are adjusted in order to reach a specified Eigenbehavior. \n",
    "The procedure can be seperated into 3 Steps:\n",
    "   1. Material parameters are optimized such that target Eigenfrequencies are reached. \n",
    "   2. The coupling paramters are optimized such the the eigen deformations are reached.\n",
    "   3. The Material parameters are readjusted such that the Eigenfreuqencies are reached again\n",
    "\n",
    "For the coupling optimization a target is required. Two different targets are implemented:\n",
    "   - target based on a reference Eigenvalue analysis of a coupled model including the Eigenfrequencies and eigen deformations \n",
    "   - target based on the assumption that in a coupled case the bedning deformation is reduced by some factor whereas the torsional\n",
    "     deformation increases in the same mode"
   ]
  },
  {
   "cell_type": "code",
   "execution_count": null,
   "metadata": {},
   "outputs": [],
   "source": [
    "import matplotlib.pyplot as plt\n",
    "import copy\n",
    "from os.path import join as os_join\n",
    "\n",
    "from source.model import BeamModel\n",
    "from source.optimizations import Optimizations\n",
    "from source.postprocess import Postprocess\n",
    "from source.utilities import utilities as utils\n",
    "from plot_settings import plot_settings\n",
    "from source.dynamic_analysis import DynamicAnalysis\n",
    "from inputs import model_parameters"
   ]
  },
  {
   "cell_type": "markdown",
   "metadata": {},
   "source": [
    "Setting the model geometric, material, element parameters or set model = 'A' or 'B'. They correspond to geometrical properties of the respective CAARC standard tall building.\n",
    "\n",
    "Important for the torsion coupling are:\n",
    "    I_param: a parametric material parameter that couples torsion with bending. This should be initially in the scale of Iy, Iz. \n",
    "             -> check what happens if this is changed\n",
    "    'initial_params_yg': \n"
   ]
  },
  {
   "cell_type": "code",
   "execution_count": null,
   "metadata": {},
   "outputs": [],
   "source": [
    "model = None #'A', 'B'\n",
    "\n",
    "if model:\n",
    "    parameters = model_parameters.parameters[model]\n",
    "\n",
    "else:\n",
    "    parameters ={  \n",
    "                'dimension': '3D',\n",
    "                'n_elements': 10,\n",
    "                'nodes_per_elem': 2,\n",
    "                'lx_total_beam': 240,\n",
    "                'material_density': 160,\n",
    "                'E_Modul': 286100000.0,\n",
    "                'nu': 0.1, \n",
    "                'damping_coeff': 0.025,\n",
    "                'cross_section_area': 72*24,\n",
    "                'B':72,\n",
    "                'D':24, \n",
    "                'Iy': 746496.0,\n",
    "                'Iz': 82944.0,\n",
    "                'I_param':100000.0, \n",
    "                'It': 829440.0,\n",
    "                'modes_to_consider': 15,\n",
    "                'static_load_magnitude': -20.0,\n",
    "                'dynamic_load_file': os_join(*[\"inputs\",\"forces\",\"dynamic_force_11_nodes.npy\"]),\n",
    "                'inital_params_yg': [1.0,1.0,1.0],\n",
    "                'params_k_ya': [0,0],# omega: stiffness coupling y - a omega1: y -g\n",
    "                'params_m_ya': [0.0,0.0,0.0],#omega: stiffness coupling, psi1, psi2: mass y-a, psi3: mass g-a\n",
    "                'eigen_freqs_tar':[0.231,0.429,0.536],\n",
    "             }"
   ]
  }
 ],
 "metadata": {
  "interpreter": {
   "hash": "92939d776573e952ac66cade42072cdd0da360af6f383cdb92cf3f8ae1a66d59"
  },
  "kernelspec": {
   "display_name": "Python 3.8.3 64-bit ('base': conda)",
   "language": "python",
   "name": "python3"
  },
  "language_info": {
   "name": "python",
   "version": "3.8.3"
  },
  "orig_nbformat": 4
 },
 "nbformat": 4,
 "nbformat_minor": 2
}
