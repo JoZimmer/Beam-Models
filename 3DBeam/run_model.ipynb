{
 "cells": [
  {
   "cell_type": "markdown",
   "metadata": {},
   "source": [
    "### TODO\n",
    "- For Schleife über die Querschnitts dicken funktioniert nicht -> Ergibt einen Dataframe aber müsst bei aktueller Struktur pro dicke einen DF erstellen und die jeweils in Excel schreiben. So muss alles hier für jede QS Stärke seperat gestartet werden. Zudem muss beim ersten durchlauf eine leere Excel Datei mit dem entsprechenden Namen erstellt werden."
   ]
  },
  {
   "cell_type": "code",
   "execution_count": 1,
   "metadata": {},
   "outputs": [],
   "source": [
    "import matplotlib.pyplot as plt\n",
    "import numpy as np\n",
    "import os\n",
    "from os.path import join as os_join\n",
    "import pandas as pd\n",
    "\n",
    "from source.model import BeamModel\n",
    "import source.postprocess as postprocess\n",
    "from source.utilities import utilities as utils\n",
    "from source.Querschnitte import nEck, KreisRing\n",
    "import source.utilities.global_definitions as GD\n",
    "from inputs import holz\n"
   ]
  },
  {
   "cell_type": "markdown",
   "metadata": {},
   "source": [
    "2D Euler-Bernoulli Balken:\n",
    "\n",
    "x-Achse: Längsrichtung\n",
    "y-Achse: Querrichtung\n",
    "gamma: Verdrehung\n",
    "Biegung um z-Achse\n",
    "(keine Torsion)\n",
    "\n",
    "![Balken](Beschreibungen/Balken_cosy.png)"
   ]
  },
  {
   "cell_type": "markdown",
   "metadata": {},
   "source": [
    "# Definieren der (Grund) Geometrischen sowie der Material Parameter\n",
    "\n",
    "Abschnittsweise veränderliche Querschnittswerte werden nach erstellen der Querschnitte nEck und KreisRing ergänzt: 'defined on intervals'\n",
    "\n",
    "Derzeit werden die anzahl der FE Elemente an die anzahl der Intervalle/Sektionen angepasst. \n"
   ]
  },
  {
   "cell_type": "code",
   "execution_count": 2,
   "metadata": {},
   "outputs": [],
   "source": [
    "parameters = {\n",
    "               'dimension': '2D',\n",
    "                'n_elements': 13, #NOTE wird überschrieben wenn die Anzahl der Ebenen verschieden ist -> in add_model_data_from_dict\n",
    "                'lx_total_beam': 110,\n",
    "                'material_density': 904,# 500,#42, #für dynamische Berechnung äquivalenter Wert\n",
    "                'total_mass_tower': 668390,# aus RFEM\n",
    "                'nacelle_mass': 287920.5,# RFEM: 267910,# IEA37: 191000, # Gondel Masse in kg\n",
    "                'vorspannkraft':12*2.5E+06, # N\n",
    "                'imperfektion':0.005, # m/m \n",
    "                'E_Modul': 12000E+06,# N/m²\n",
    "                'nu': 0.1, # querdehnung\n",
    "                'damping_coeff': 0.025,\n",
    "                'nodes_per_elem': 2,\n",
    "                'Iz': 51.0,# Not used if defined on intervals\n",
    "                'dofs_of_bc':[0,1,2], # Einspannung\n",
    "                'type_of_bc':'clamped',#'clamped',# or 'spring'\n",
    "                'spring_stiffness':[1E+13,2E+13], # Federsteifigkeit am Boden in u und gamma richtung Bögl 40 GNm/rad\n",
    "                'dynamic_load_file': os_join(*[\"inputs\",\"forces\",\"dynamic_force_11_nodes.npy\"]),\n",
    "                'eigen_freqs_target':[0.133,0.79,3.0], \n",
    "                'defined_on_intervals':[] # kann gefüllt werden mit einer pickle datei \n",
    "            }\n",
    "holzgüte = 'C24'\n",
    "\n",
    "werkstoff_parameter = holz.charakteristische_werte[holzgüte]\n",
    "parameters['material_density'] = werkstoff_parameter['rhok']\n",
    "parameters['E_Modul'] = werkstoff_parameter['E0mean']\n",
    "\n",
    "nachweis_parameter = holz.HOLZBAU\n",
    "\n",
    "# Ergebnisse in einem DataFrame speichern - reihe = Höhe; Spalte = Ergebniss\n",
    "# https://stackoverflow.com/questions/32370402/giving-a-column-multiple-indexes-headers \n",
    "# https://pandas.pydata.org/pandas-docs/stable/user_guide/indexing.html#returning-a-view-versus-a-copy\n",
    "\n",
    "grund_parameter_df = pd.DataFrame() # grundlegende parameter die untersucht werden\n",
    "\n",
    "results_excel = os_join(*['output','Berechnungs_Ergebnisse.xlsx'])#_'+ holzgüte + \n",
    "querschnitts_excel = os_join(*['output','Querschnittswerte.xlsx'])"
   ]
  },
  {
   "cell_type": "markdown",
   "metadata": {},
   "source": [
    "# Querschnittsdefinition\n",
    "\n",
    "- mit create_cross_sections.py können Querschnitte (nEck und KreisRing) erstellt werden und als dictonary in einer pickle Datei gespeichert. (Gedacht für den Systematischen Vergleich mehrerer QS)\n",
    "- Querschnitte müssen immer über Querschnitt.export_to_dict_pkl() gespeichert werden \n",
    "- diese müssen geladen werden (eindeutige Identifikation über den Namen der Datei) und den aktuellen parametern angehängt werden (wird diese Funktion verwendet werden nötige Variablen wie die totale länge automatisch angepasst)\n",
    "\n",
    "Sollen mehrere Querschnitte untersucht werden ist gedacht eine Liste an Dateien mit den unterschiedlichen Querschnitten zu erstellen.\n",
    "\n",
    "Definition der Durchmesser über die Höhe:\n",
    "\n",
    "![Knicke](Beschreibungen/Knicke_Turm.png)"
   ]
  },
  {
   "cell_type": "code",
   "execution_count": 3,
   "metadata": {},
   "outputs": [],
   "source": [
    "# um zwischen den Alternativen zu Wählen\n",
    "querschnitts_dateien_laden = False"
   ]
  },
  {
   "cell_type": "markdown",
   "metadata": {},
   "source": [
    "#### Alternative 1: Querschnitte Laden aus Dateien erstellt mit \"create_cross_sections.py\""
   ]
  },
  {
   "cell_type": "code",
   "execution_count": 4,
   "metadata": {},
   "outputs": [],
   "source": [
    "if querschnitts_dateien_laden:\n",
    "    d_unten = 12\n",
    "    ecken = [12]#,10,8] #\n",
    "    höhen = [110]#,130,140,150,160]#]\n",
    "    t_längslagen = [40]#, 48, 56] # cm\n",
    "    t_querlagen = 8 #cm\n",
    "    \n",
    "    querschnitte = []#, 'Kreisring_d12.pkl']#'8Eck.pkl','10Eck.pkl', \n",
    "    for höhe in höhen:\n",
    "        for t_längslage in t_längslagen:\n",
    "            filename = 'Ring_' + str(höhe) + '_du' + str(d_unten) + '_' + holzgüte + '_tX' + str(t_längslage) + '_tY' +str(t_querlagen)+ '.pkl'\n",
    "            querschnitt_object = utils.load_object_from_pkl(os_join(*['inputs', 'linear','geometry', 'objekte', filename]))\n",
    "            querschnitte.append(querschnitt_object)\n",
    "            for n_ecken in ecken:\n",
    "                filename = str(n_ecken) + 'Eck_' + 'h'+ str(höhe)  + '_du' + str(d_unten) + '_' + holzgüte + '_tX' + str(t_längslage) + '_tY' +str(t_querlagen)+ '.pkl'\n",
    "                querschnitt_object = utils.load_object_from_pkl(os_join(*['inputs', 'linear','geometry', 'objekte', filename]))\n",
    "                querschnitte.append(querschnitt_object)\n",
    "\n",
    "    # erste Spalte im Dataframe sollten die höhen sein \n",
    "    # results_df['z_coords_h' + str(höhe)] = querschnitt_object.section_absolute_heights     "
   ]
  },
  {
   "cell_type": "markdown",
   "metadata": {},
   "source": [
    "#### Alternative 2: Direkt definieren eines / mehrerer Querschnitte"
   ]
  },
  {
   "cell_type": "code",
   "execution_count": 5,
   "metadata": {},
   "outputs": [
    {
     "name": "stdout",
     "output_type": "stream",
     "text": [
      "Für Nabenhöhe 110 ergeben sich 8 Sektionen mit einer Höhe von je 13.75 m\n",
      "\n",
      "Für Nabenhöhe 110 ergeben sich 8 Sektionen mit einer Höhe von je 13.75 m\n",
      "Bei h= 68.75 m ist ein Knick angeordnet.\n",
      "Bei h= 55.0 m ist ein 2. Knick angeordnet.\n",
      "Der Untere Teil ist um 85.32 ° geneigt\n",
      "Der Übergangsbereich ist um 71.88 ° geneigt\n",
      "Der Obere Teil ist um 83.77 ° geneigt\n",
      "\n",
      "Für Nabenhöhe 110 ergeben sich 8 Sektionen mit einer Höhe von je 13.75 m\n",
      "Bei h= 68.75 m ist ein Knick angeordnet.\n",
      "Bei h= 55.0 m ist ein 2. Knick angeordnet.\n",
      "Der Untere Teil ist um 87.4 ° geneigt\n",
      "Der Übergangsbereich ist um 79.7 ° geneigt\n",
      "Der Obere Teil ist um 86.53 ° geneigt\n",
      "\n",
      "\n",
      "Die Querschnittswerte über die Höhe sind in output\\Querschnittswerte.xlsx geschrieben.\n"
     ]
    }
   ],
   "source": [
    "if not querschnitts_dateien_laden:\n",
    "        querschnitte = []\n",
    "        qs_werte = []\n",
    "        qs_labels = []\n",
    "        knicke = {'gerade':[None,12], '1Knick':[6,12], 'Knick mit Übergang':[6,10]}\n",
    "        for label, knick in knicke.items():\n",
    "                höhen_parameter = {\n",
    "                                'nabenhöhe' :110,\n",
    "                                'h_knick_von_oben' :[60],\n",
    "                                'höhe_sektionen' :[12,15], # Range angeben\n",
    "                                'd_knick' :[knick[0]],#None, für keinen Knick\n",
    "                                'd_unten_oben' :[12, 3.4],\n",
    "                                'd_unten_angepasst':knick[1], # gedacht kleiner als d_unten oder \n",
    "                                'd_knick_übergang':'automatisch', # bei automatisch nimmt es den schon vorhandenen an dieser Stelle\n",
    "                                'n_sektionen_übergang':1,\n",
    "                                } \n",
    "                \n",
    "                #plt.plot(d_achse_knick,höhen_parameter['absolute_höhen'])\n",
    "                #plt.plot(höhen_parameter['absolute_höhen'], d_achse_knick)\n",
    "                #plt.show()\n",
    "\n",
    "                lagen_aufbau = [{'ortho':'X','ti':0.16},\n",
    "                                {'ortho':'Y','ti':0.04},\n",
    "                                {'ortho':'X','ti':0.08},\n",
    "                                {'ortho':'Y','ti':0.04},\n",
    "                                {'ortho':'X','ti':0.16}]\n",
    "\n",
    "                einheiten_input = {'Kraft':'N', 'Moment':'Nm', 'Festigkeit':'N/mm²', 'Länge':'m'}\n",
    "                \n",
    "                kreis_ring = KreisRing(cd = 1.1, lagen_aufbau=lagen_aufbau,\n",
    "                                        holz_parameter = werkstoff_parameter, \n",
    "                                        nachweis_parameter = nachweis_parameter,\n",
    "                                        hoehen_parameter= höhen_parameter, einheiten=einheiten_input)\n",
    "\n",
    "                kreis_ring.name += ' ' + label\n",
    "                qs_labels.append(kreis_ring.name)\n",
    "                for values in kreis_ring.querschnitts_werte.values():\n",
    "                        qs_werte.append(values)\n",
    "                        \n",
    "                querschnitte.append(kreis_ring)\n",
    "\n",
    "        # # Wenn mehrere Level also z.B. verschiedene Knicke untersucht werden sollen dann dieser header:\n",
    "        qs_header = pd.MultiIndex.from_product([qs_labels, list(kreis_ring.querschnitts_werte.keys())])\n",
    "\n",
    "        # # Bei einem einzelnen QS dieser header:\n",
    "        #qs_header = list(kreis_ring.querschnitts_werte.keys())\n",
    "\n",
    "        qs_werte=np.array(qs_werte).transpose()\n",
    "        qs_df = pd.DataFrame(qs_werte, columns=qs_header)\n",
    "        holz_df = pd.DataFrame(werkstoff_parameter, index=[0])\n",
    "        \n",
    "        # Querschnitts werte werden im Selben Format auch in einem sheet im 'Berechnungs_Ergebnisse' Excel hinzugefügt\n",
    "        with pd.ExcelWriter(querschnitts_excel, mode= 'w', engine=\"openpyxl\") as writer:# --> mode = 'w', if_sheet_exists='overlay'\n",
    "                holz_df.to_excel(writer, sheet_name= 'QS_Werte', startrow=0, startcol=0, index=False)\n",
    "                qs_df.to_excel(writer, sheet_name= 'QS_Werte', startrow=4, startcol=0)\n",
    "        \n",
    "        utils.zellen_groeße_formatieren(querschnitts_excel, worksheet= 'QS_Werte', cell_width=15, n_cols=len(holz_df.columns)*2+1)\n",
    "\n",
    "        print ('\\nDie Querschnittswerte über die Höhe sind in', querschnitts_excel, 'geschrieben.')\n",
    "        "
   ]
  },
  {
   "cell_type": "markdown",
   "metadata": {},
   "source": [
    "### Dataframe\n",
    "- Wird genutzt um die Ergebnisse am Ende einfach in ein Excel zu schreiben\n",
    "- Der Dataframe muss leer initialisiert werden um verschiedene Level an Headern (Zeilen der Spalten) zu verwenden -> genau diese Namen in den Headern müssen dann benutzt werden um den Dataframe zu füllen\n",
    "- NOTE muss tatsächlich gar nicht unbedingt initialisiert werden. Die level werden wohl auch richtig hinzugefügt wenn man sie mit dem df.loc ding hinzufügt"
   ]
  },
  {
   "cell_type": "code",
   "execution_count": 6,
   "metadata": {},
   "outputs": [],
   "source": [
    "# https://pandas.pydata.org/pandas-docs/stable/user_guide/indexing.html#returning-a-view-versus-a-copy\n",
    "\n",
    "df_results_header_list = [[],[], []] # 1. Liste = 1. Level usw...\n",
    "include_tau = True\n",
    "include_sigma_M_N = False\n",
    "\n",
    "for qs in querschnitte:\n",
    "    if qs.nabenhöhe not in df_results_header_list[0]:\n",
    "        df_results_header_list[0].append(qs.nabenhöhe)\n",
    "    if qs.name not in df_results_header_list[1]:\n",
    "        df_results_header_list[1].append(qs.name)\n",
    "\n",
    "    # Berechnungsergebnisse - dritte Ebene:\n",
    "    if not df_results_header_list[2]: \n",
    "        df_results_header_list[2].append('Höhe [' + qs.einheiten['Länge'] + ']') \n",
    "        df_results_header_list[2].append(GD.GREEK_UNICODE['sigma'] + '_zug [' + qs.einheiten['Normalspannung'] + ']') \n",
    "        df_results_header_list[2].append(GD.GREEK_UNICODE['sigma'] + '_druck [' + qs.einheiten['Normalspannung'] + ']') \n",
    "        df_results_header_list[2].append('Vorspannkraft [MN]') \n",
    "        df_results_header_list[2].append('Ausnutzung druck') \n",
    "\n",
    "        if include_tau:\n",
    "            df_results_header_list[2].append(GD.GREEK_UNICODE['tau'] + '_Qy' + ' [' + qs.einheiten['Schubspannung'] + ']') \n",
    "            df_results_header_list[2].append(GD.GREEK_UNICODE['tau'] + '_Mx' + ' [' + qs.einheiten['Schubspannung'] + ']') \n",
    "            df_results_header_list[2].append(GD.GREEK_UNICODE['tau'] + '_ges' + ' [' + qs.einheiten['Schubspannung'] + ']') \n",
    "        if include_sigma_M_N:\n",
    "            df_results_header_list[2].append(GD.GREEK_UNICODE['sigma'] + '_N [' + qs.einheiten['Normalspannung'] + ']') \n",
    "            df_results_header_list[2].append(GD.GREEK_UNICODE['sigma'] + '_M [' + qs.einheiten['Normalspannung'] + ']') \n",
    "\n",
    "df_results_header = pd.MultiIndex.from_product(df_results_header_list, names=['Nabenhöhe', 'Querschnitt', 'Ergebnisse'])\n",
    "results_df = pd.DataFrame(columns=df_results_header)"
   ]
  },
  {
   "cell_type": "markdown",
   "metadata": {},
   "source": [
    "# Äußere Belastung \n",
    "\n",
    "\n",
    "- Windkraft F_w über die Höhe wird nach DIN berechnet (cscd vernachlässigt Bert = 1.01, DIBt 9.3.2: muss im Parkzustand berücksichtigt werden im Analgenbetrieb nicht).\n",
    "\n",
    "![Formel](Beschreibungen/Fw_formel.PNG)\n",
    "    \n",
    "- Angabe eines eigenen cd / cf Werts (drag coefficient bzw. Kraftbeiwert)\n",
    "- Kopflasten aus IEA37 Min/Max Tabellen\n",
    "- Schiefstellung 5 mm/m (DIBt Windenergieanlagen Richtlinie 2012 Kapitel 7.4)\n",
    "- Teilsicherheitsbeiwerte nach IEC \n",
    "\n",
    "### Einwirkungsdauer\n",
    "\n",
    "- Einteilung der Lasten nach dauer 'kurz' und 'ständig' (durch keys in dictonaries)\n",
    "\n",
    "### Dateinamens Konvention\n",
    "\n",
    "Die Lasten werden/müssen in einer .npy datei gespeichert werden um vom beam gelesen werden zu können. Für die Dateinamen wird folgende bezeichnugn festgelegt:\n",
    "\n",
    "- K-IEA@maxFx_ = Kopflasten + Quelle der min max tabelle + angabe aus welcher reihe der min max tabelle \n",
    "- W-v17cd1.5_ = Windlast + Basiswindgeschwindigeit + cd Wert\n",
    "- D-kurz = Dauer der Einwirkung\n",
    "\n",
    "### TODO\n",
    "- Knoten Momente berechnen bei der Konvertierung von Linienlast in Punktlasten\n"
   ]
  },
  {
   "cell_type": "code",
   "execution_count": 7,
   "metadata": {},
   "outputs": [
    {
     "name": "stdout",
     "output_type": "stream",
     "text": [
      "Windbelastung aus:\n",
      "    vb: 17\n",
      "    terrain: II\n",
      "    gamma_q: 1.35\n",
      "Sum F_knoten_wind: Ring gerade 9 nodes 647407.073483188\n",
      "Sum F_knoten_wind: Ring 1Knick 9 nodes 569486.5082189554\n",
      "Sum F_knoten_wind: Ring Knick mit Übergang 9 nodes 545487.4264206096\n"
     ]
    }
   ],
   "source": [
    "kopf_lasten_IEA = {'Fx':1.17E+06,'Fy':4.80E+04, 'Fz':-3.64E+06, 'Mx':5.98E+06, 'My':3.24E+06, 'Mz':2.31E+06}#\n",
    "kopf_lasten_IEA_0 = {'Fx':0,'Fy':0, 'Fz':0, 'Mx':0, 'My':0, 'Mz':0} # als platzhalter um vorhanden Funktionen einfacher verwenden zu können\n",
    "kopf_lasten_beam = utils.convert_coordinate_system_and_consider_einwirkungsdauer(kopf_lasten_IEA) # Koordinaten definiton abweichend + gleichzeitig einteilung der Lasten in Einwirkungsdauer\n",
    "kopf_lasten_beam_0 = utils.convert_coordinate_system_and_consider_einwirkungsdauer(kopf_lasten_IEA_0) # Koordinaten definiton abweichend\n",
    "\n",
    "einwirkungsdauer = ['ständig','kurz', 'egal']\n",
    "gamma_q = 1.35\n",
    "\n",
    "import source.DIN_Windlasten as wind_DIN\n",
    "\n",
    "basis_windgeschwindigkeit = 17\n",
    "terrain_kategorie = 'II'\n",
    "print ('Windbelastung aus:')\n",
    "print ('    vb:', basis_windgeschwindigkeit)\n",
    "print ('    terrain:', terrain_kategorie)\n",
    "print ('    gamma_q:', gamma_q)\n",
    "#wind_DIN.plot_DIN_all(basis_windgeschwindigkeit, categories=[terrain_kategorie])\n",
    "\n",
    "wind_kraft_z = {}\n",
    "lasten_files, lasten_dicts = {}, {}\n",
    "grund_parameter_df['Querschnitt'] = [q.name for q in querschnitte]\n",
    "grund_parameter_df['t [cm]'] = [q.wand_stärke for q in querschnitte]\n",
    "grund_parameter_df['Nabenhöhe [m]'] = [q.nabenhöhe for q in querschnitte]\n",
    "grund_parameter_df['cd'] = [q.cd for q in querschnitte]\n",
    "\n",
    "for querschnitt in querschnitte:\n",
    "    # Infromationen vom QS Objekt holen\n",
    "    QS_label = querschnitt.name\n",
    "    cd = querschnitt.cd\n",
    "    höhen_z = querschnitt.section_absolute_heights\n",
    "    nabenhöhe = querschnitt.nabenhöhe\n",
    "    d_achse = querschnitt.d_achse\n",
    "    n_nodes = querschnitt.n_ebenen\n",
    "\n",
    "    lasten_dict_base = {'Fx':np.zeros(n_nodes), 'Fy':np.zeros(n_nodes), 'Mz':np.zeros(n_nodes)}\n",
    "\n",
    "    # Ergebniss Daten vorbereiten -> leer initialisieren nur wenn noch nicht leer \n",
    "    if QS_label not in lasten_files:\n",
    "        lasten_files[QS_label] = {}\n",
    "        lasten_dicts[QS_label] = {}\n",
    "\n",
    "    if nabenhöhe not in lasten_files[QS_label]:\n",
    "        lasten_files[QS_label][nabenhöhe] = {}\n",
    "        lasten_dicts[QS_label][nabenhöhe] = {}\n",
    "\n",
    "    # Lastberechnung für den spezifischen QS\n",
    "    wind_kraft_z, z_coords = wind_DIN.wind_kraft(vb=basis_windgeschwindigkeit, category=terrain_kategorie, height=höhen_z, cd = cd, Aref=d_achse)\n",
    "    knoten_wind_kraft_z = utils.linien_last_to_knoten_last(wind_kraft_z, höhen_z, gamma_q = 1.35) # NOTE gamma_q nach IEC \n",
    "    print ('Sum F_knoten_wind:',QS_label, n_nodes, 'nodes', sum(knoten_wind_kraft_z))\n",
    "    #postprocess.plot_along_height(knoten_wind_kraft_z, z_coords, label='wind_kraft [N]')\n",
    "\n",
    "    lasten_dict_nur_wind = utils.update_lasten_dict(lasten_dict_base, knoten_wind_kraft_z, kopf_lasten_beam_0['egal'])\n",
    "    lasten_dicts[QS_label][nabenhöhe]['egal']  = utils.update_lasten_dict(lasten_dict_base, knoten_wind_kraft_z, kopf_lasten_beam['egal']) #unabhängig von der Einwirkungsdauer\n",
    "    # _____Sortiert nach Einwirkungsdauer __________________________\n",
    "    lasten_dicts[QS_label][nabenhöhe]['kurz'] = utils.update_lasten_dict(lasten_dict_base, knoten_wind_kraft_z, kopf_lasten_beam['kurz'])\n",
    "    lasten_dicts[QS_label][nabenhöhe]['ständig']  = utils.update_lasten_dict(lasten_dict_base, wind_kraft = None, kopflasten = kopf_lasten_beam['ständig'])\n",
    "\n",
    "    # ____________ LASTEN DATEI GENERIEREN ___________________________\n",
    "    for dauer in einwirkungsdauer:\n",
    "        filename = 'K-IEA@maxFx_' + 'W-v' +str(basis_windgeschwindigkeit) + 'cd' + str(cd) + '_D-' + dauer\n",
    "        lasten_files[QS_label][nabenhöhe][dauer] = utils.generate_lasten_file(n_nodes, lasten_dicts[QS_label][nabenhöhe][dauer], file_base_name=filename)\n",
    "\n",
    "    if nabenhöhe == 160:\n",
    "        postprocess.plot_dict_subplots(lasten_dict_nur_wind, höhen_z, title='Windkraft ' + QS_label, unit='kN')\n",
    "        postprocess.plot_dict_subplots(lasten_dicts[QS_label][nabenhöhe]['egal'], höhen_z, title='Windkraft + Kopflasten gesamt ' + QS_label, unit = 'kN')\n"
   ]
  },
  {
   "cell_type": "markdown",
   "metadata": {},
   "source": [
    "# Schnittgrößen\n",
    "\n",
    "- Balkenmodell initiieren (für jeden Querschnitt)\n",
    "- Statisch Berechnung -> Schnittgrößen entlang der Höhe\n",
    "- Berechnung für die vom Querschnitt abhängigen Lasten\n",
    "- Unterscheidung der Einwirkungsdauer \n",
    "- Eigengewicht des Turms mit einbeziehen -> 'ständig'\n",
    "- Horizontale ersatzlast infolge Schiefstellung (ungünstig zur wirkenden Horizontalkraft addieren) -> 'ständig'\n",
    "- Vergleich: Moment am Fuß IEA @ max Fx: 128 MNm\n",
    "\n",
    "### TODO\n",
    "- Teilsicherheitsbeiwert Eigengewicht komplexer -> Kapitel 7.6.2.2 Tabelle 3 IEC 61400\n",
    "- bis dahin gamma_g = 1.35"
   ]
  },
  {
   "cell_type": "code",
   "execution_count": 8,
   "metadata": {},
   "outputs": [
    {
     "name": "stdout",
     "output_type": "stream",
     "text": [
      "N_nodes 9\n",
      "Ring gerade 110 m\n",
      "     Gesamt Volumen des Querschnitts [m³]: 1277.25\n",
      "     Gesamt Gewichtskraft am Fuß [MN]: -5.76\n",
      "     Frequenzen [Hz]: [0.519, 3.247, 8.521]\n",
      "     Maximales Moment [MNm]: 163.24\n",
      "     Maximales Moment ohne Kopflast [MNm]: 34.54\n",
      "N_nodes 9\n",
      "Ring 1Knick 110 m\n",
      "     Gesamt Volumen des Querschnitts [m³]: 1136.25\n",
      "     Gesamt Gewichtskraft am Fuß [MN]: -5.13\n",
      "     Frequenzen [Hz]: [0.429, 3.009, 8.13]\n",
      "     Maximales Moment [MNm]: 163.03\n",
      "     Maximales Moment ohne Kopflast [MNm]: 34.33\n",
      "N_nodes 9\n",
      "Ring Knick mit Übergang 110 m\n",
      "     Gesamt Volumen des Querschnitts [m³]: 1074.05\n",
      "     Gesamt Gewichtskraft am Fuß [MN]: -4.85\n",
      "     Frequenzen [Hz]: [0.399, 2.742, 7.997]\n",
      "     Maximales Moment [MNm]: 163.01\n",
      "     Maximales Moment ohne Kopflast [MNm]: 34.31\n"
     ]
    }
   ],
   "source": [
    "schnittgrößen = {}\n",
    "for querschnitt in querschnitte:\n",
    "    QS_label = querschnitt.name\n",
    "    nabenhöhe = querschnitt.nabenhöhe\n",
    "\n",
    "    if QS_label not in schnittgrößen:\n",
    "        schnittgrößen[QS_label] = {}\n",
    "    if nabenhöhe not in schnittgrößen[QS_label]:\n",
    "        schnittgrößen[QS_label][nabenhöhe] = {}\n",
    "\n",
    "    section_properties = querschnitt.section_parameters \n",
    "\n",
    "    parameters = utils.add_model_data_from_dict(section_properties, parameters)\n",
    "\n",
    "    beam = BeamModel(parameters, adjust_mass_density_for_total = False, optimize_frequencies_init=False , apply_k_geo=False)\n",
    "\n",
    "    print ('N_nodes', querschnitt.n_ebenen)\n",
    "    print (QS_label, nabenhöhe, 'm')\n",
    "    print('     Gesamt Volumen des Querschnitts [m³]:', round(beam.volume,2))\n",
    "    print ('     Gesamt Gewichtskraft am Fuß [MN]:',round(sum(beam.eigengewicht * GD.UNIT_SCALE['MN']),2))\n",
    "\n",
    "    print ('     Frequenzen [Hz]:', [round(beam.eigenfrequencies[i],3) for i in range(3)])\n",
    "\n",
    "    gamma_Q = 1.0 # Da lasten schon mit sichterheitsbeiwerten vorliegen \n",
    "\n",
    "    lasten_nach_dauer = {'ständig':{'eigengewicht':True, 'imperfektion':True},\n",
    "                         'egal':{'eigengewicht':True, 'imperfektion':True},\n",
    "                         'kurz':{'eigengewicht':False, 'imperfektion':False}}\n",
    "    for dauer in einwirkungsdauer:\n",
    "        lasten_file = lasten_files[QS_label][nabenhöhe][dauer]\n",
    "        lasten_label = os.path.splitext(os.path.basename(lasten_file))[0]\n",
    "\n",
    "        schnittgrößen[QS_label][nabenhöhe][dauer] = beam.static_analysis_solve(load_vector_file=lasten_file, return_result=True,\n",
    "                                                                    add_eigengewicht=lasten_nach_dauer[dauer]['eigengewicht'], \n",
    "                                                                    add_imperfektion = lasten_nach_dauer[dauer]['imperfektion'],\n",
    "                                                                    gamma_g=1.35)\n",
    "\n",
    "    schnittgrößen[QS_label][nabenhöhe]['egal']['a'] = np.array([kopf_lasten_IEA['Mz']]*n_nodes)\n",
    "\n",
    "    print ('     Maximales Moment [MNm]:', round(max(abs(schnittgrößen[QS_label][nabenhöhe]['egal']['g'])) * utils.unit_conversion('Nm', 'MNm'),2))   \n",
    "    print ('     Maximales Moment ohne Kopflast [MNm]:', round((max(abs(schnittgrößen[QS_label][nabenhöhe]['egal']['g'])) - kopf_lasten_IEA['Fx']*nabenhöhe) * utils.unit_conversion('Nm', 'MNm'),2))   \n",
    "\n",
    "    # Wenn was geplotet werden soll hier mit if angeben für welchen querschnitt aus der liste oder einfach ohne if dann für alle                                                              \n",
    "    if nabenhöhe == 11:\n",
    "        postprocess.plot_static_result_forces(beam, 'internal_forces', ['x','y','g'], unit='MN', title_suffix='Last:' + lasten_label, figsize_scale = 1.1)\n",
    "        postprocess.plot_static_result(beam, 'deformation', ['y'], unit='cm',title_suffix='Last:' + lasten_label,)\n",
    "        postprocess.plot_static_result(beam, 'deformation', ['g'], unit='cm',title_suffix='Last:' + lasten_label,)\n"
   ]
  },
  {
   "cell_type": "markdown",
   "metadata": {},
   "source": [
    "# Berechnung der Spannungen\n",
    "\n",
    "- Für die Liste an Querschnitten werden mit den Entsprechenden Schnittgrößen die Spannungen berechnet\n",
    "- Bisher nur Normalspannugen infolge Biegung und Normalkraft\n",
    "- Ausnutzung aufgrund der Druckspannungen aus Moment, Imperfektion und Normalkraft \n",
    "- Druckspannung infolge Vorspannkraft wird in einer ersten Annährung durch die Zugspannung abgedeckt\n",
    "- der Dataframe wird gefüllt und in eine Excel geschrieben\n",
    "- WICHTIG: der pd.ExcelWriter unterscheided zwischen mode 'w' = 'write' und 'a' = 'append'. Für 'w' wird alles neu geschrieben also der Inhalt der Datei quasi erst gelöscht und dann gefüllt. Mit 'a' kann eine Vorhandene Datei erweitert werden -> mit if_sheet_exists = 'overlay' werden auch die einzelnen Arbeitsblätter nicht gelöscht bevor sie geschrieben werden\n",
    "\n",
    "### TODO\n",
    "- Vorspannkratverluste (iterativ) bestimmen und erforderliche Anzahl an Spanngleidern mit betimmter Anzahl an Drähten ausgeben -> Angefangen hier: Querschnitt.spannkraft_berechnen()\n",
    "- Staffelung der Vorspannung"
   ]
  },
  {
   "cell_type": "code",
   "execution_count": 9,
   "metadata": {},
   "outputs": [
    {
     "data": {
      "image/png": "[encoded data removed]",
      "text/plain": [
       "<Figure size 1080x288 with 3 Axes>"
      ]
     },
     "metadata": {
      "needs_background": "light"
     },
     "output_type": "display_data"
    },
    {
     "data": {
      "image/png": "[encoded data removed]",
      "text/plain": [
       "<Figure size 1080x288 with 3 Axes>"
      ]
     },
     "metadata": {
      "needs_background": "light"
     },
     "output_type": "display_data"
    },
    {
     "data": {
      "image/png": "[encoded data removed]",
      "text/plain": [
       "<Figure size 1080x288 with 3 Axes>"
      ]
     },
     "metadata": {
      "needs_background": "light"
     },
     "output_type": "display_data"
    },
    {
     "name": "stdout",
     "output_type": "stream",
     "text": [
      "Maximale Ausnutzungen\n",
      "       Ring gerade  Ring 1Knick  Ring Knick mit Übergang\n",
      "110 m     0.459139     0.758063                 0.758063\n",
      "Ergebnisse in  output\\Berechnungs_Ergebnisse.xlsx geschrieben\n"
     ]
    }
   ],
   "source": [
    "max_ausnutzung = {}\n",
    "for querschnitt in querschnitte:\n",
    "  QS_label = querschnitt.name\n",
    "  nabenhöhe = querschnitt.nabenhöhe\n",
    "  t = round(querschnitt.wand_stärke * 100) # cm\n",
    "  tX = querschnitt.t_laengslagen * 100\n",
    "  tY = querschnitt.t_querlagen * 100\n",
    "  if QS_label not in max_ausnutzung:\n",
    "    max_ausnutzung[QS_label] = {}\n",
    "    \n",
    "  last = utils.parse_schnittgrößen_labels(schnittgrößen[QS_label][nabenhöhe])\n",
    "\n",
    "  querschnitt.spannkraft_berechnung(last, unit = 'MN')\n",
    "  querschnitt.calculate_ausnutzung_normalspannung(last, add_vorspannkraft_grob=True, plot_spannungsverlauf=True)\n",
    "  querschnitt.calculate_schubspannung_resultierend(last)\n",
    "\n",
    "  # NOTE Syntax: results_df.loc[:, (Level1, Level2, Level3)] = daten\n",
    "  results_df.loc[:,(nabenhöhe, QS_label, 'Höhe [' + querschnitt.einheiten['Länge'] + ']')] = np.around(querschnitt.section_absolute_heights,2)\n",
    "\n",
    "  results_df.loc[:,(nabenhöhe, QS_label, GD.GREEK_UNICODE['sigma'] + '_zug [' + querschnitt.einheiten['Normalspannung'] + ']')] = np.around(querschnitt.sigma_zug_design,2)\n",
    "  results_df.loc[:,(nabenhöhe, QS_label, GD.GREEK_UNICODE['sigma'] + '_druck [' + querschnitt.einheiten['Normalspannung'] + ']')] = np.around(querschnitt.sigma_druck_design,2)\n",
    "  results_df.loc[:,(nabenhöhe, QS_label, 'Ausnutzung druck')] = np.around(querschnitt.ausnutzung_druck,3)\n",
    "  max_eta = max(querschnitt.ausnutzung_druck)\n",
    "  max_ausnutzung[QS_label][str(nabenhöhe) + ' m'] = max_eta\n",
    "\n",
    "  results_df.loc[:,(nabenhöhe, QS_label, 'Vorspannkraft [MN]')] = np.around(querschnitt.P_erf * utils.unit_conversion('N', 'MN') ,2)\n",
    "\n",
    "  if include_tau:\n",
    "    results_df.loc[:,(nabenhöhe, QS_label, GD.GREEK_UNICODE['tau'] + '_Qy' + ' [' + qs.einheiten['Schubspannung'] + ']')] = np.around(querschnitt.tau_Qy,2)\n",
    "    results_df.loc[:,(nabenhöhe, QS_label, GD.GREEK_UNICODE['tau'] + '_Mx' + ' [' + qs.einheiten['Schubspannung'] + ']')] = np.around(querschnitt.tau_Mx,2)\n",
    "    results_df.loc[:,(nabenhöhe, QS_label, GD.GREEK_UNICODE['tau'] + '_ges' + ' [' + qs.einheiten['Schubspannung'] + ']')] = np.around(querschnitt.tau,2)\n",
    "  \n",
    "  if include_sigma_M_N:\n",
    "    results_df.loc[:,(nabenhöhe, QS_label, GD.GREEK_UNICODE['sigma'] + '_N [' + querschnitt.einheiten['Normalspannung'] + ']')] = querschnitt.sigma_N_design\n",
    "    results_df.loc[:,(nabenhöhe, QS_label, GD.GREEK_UNICODE['sigma'] + '_M [' + querschnitt.einheiten['Normalspannung'] + ']')] = querschnitt.sigma_M_design\n",
    "  \n",
    "\n",
    "max_results_df = pd.DataFrame(max_ausnutzung)\n",
    "print ('Maximale Ausnutzungen')\n",
    "print (max_results_df)\n",
    "\n",
    "#print ('Vorspannkraft [MN]')\n",
    "#print ( results_df[110, 'Ring', 'Vorspannkraft [MN]'])\n",
    "\n",
    "#______________________ ALLES IN EXCEL SPEICHERN _________________________________________________________________________________________\n",
    "d_rows = grund_parameter_df.shape[0] + 7 + results_df.shape[0]\n",
    "# bisschen arg händisch bisher -> um Ergebnisse verschiedener QS Wandstärken in einer Datei untereinander zu schreiben\n",
    "start_row_ti = {48:0, 56:d_rows, 64:2*d_rows}\n",
    "start_row_max_ti = {48:1, 56:1+8, 64:1+16}\n",
    "\n",
    "with pd.ExcelWriter(results_excel, mode= 'w', engine=\"openpyxl\") as writer:# --> mode = 'a', if_sheet_exists='overlay'\n",
    "  nrows = start_row_ti[int(t)] + grund_parameter_df.shape[0]\n",
    "  ausnutzungs_cols = utils.get_spalten_ausnutzung(results_df, df_results_header_list, start_row = nrows+2, start_col = 0)\n",
    "  # TODO macht gerade nur sinn die QS Werte mit hier rein zu schreiben wenn es eineinzelner QS ist\n",
    "  holz_df.to_excel(writer, sheet_name= 'QS_Werte', startrow=0, startcol=0, index=False)#\n",
    "  qs_df.to_excel(writer, sheet_name= 'QS_Werte', startrow=4, startcol=0)#, index=False\n",
    "  results_df.to_excel(writer, sheet_name= 'Berechnungs_Ergebnisse', startrow=nrows+2, startcol=0, index=True)#, float_format='%.4f')\n",
    "  grund_parameter_df.to_excel(writer, sheet_name= 'Berechnungs_Ergebnisse', startrow=start_row_ti[int(t)], startcol=0, index=False)\n",
    "  max_results_df.to_excel(writer, sheet_name= 'Ausnutzungen_max', startrow=start_row_max_ti[t], index=True)\n",
    "\n",
    "utils.zellen_groeße_formatieren(results_excel, worksheet= 'QS_Werte', cell_width=15, n_cols=len(qs_df.columns)+1)\n",
    "utils.zellen_groeße_formatieren(results_excel, worksheet= 'Berechnungs_Ergebnisse', cell_width=18, n_cols=len(results_df.columns)+1)\n",
    "utils.add_databar_color(results_excel, worksheet = 'Berechnungs_Ergebnisse', columns = ausnutzungs_cols)\n",
    "utils.zellen_groeße_formatieren(results_excel, worksheet= 'Ausnutzungen_max', cell_width=20, n_cols=len(max_results_df.columns)+1)\n",
    "utils.zelle_beschriften(results_excel, 'Ausnutzungen_max', 'B' + str(start_row_max_ti[t]), \n",
    "                       't, tX, tY [cm] ' + ', '.join([str(int(t)), str(round(tX,1)), str(round(tY,1))]) ,'B' + str(start_row_max_ti[t])+ ':E'+ str(start_row_max_ti[t]))\n",
    "\n",
    "              \n",
    "\n",
    "print ('Ergebnisse in ', results_excel, 'geschrieben')\n",
    "\n",
    "    "
   ]
  }
 ],
 "metadata": {
  "kernelspec": {
   "display_name": "Python 3.9.12 ('env_full')",
   "language": "python",
   "name": "python3"
  },
  "language_info": {
   "codemirror_mode": {
    "name": "ipython",
    "version": 3
   },
   "file_extension": ".py",
   "mimetype": "text/x-python",
   "name": "python",
   "nbconvert_exporter": "python",
   "pygments_lexer": "ipython3",
   "version": "3.9.12"
  },
  "orig_nbformat": 4,
  "vscode": {
   "interpreter": {
    "hash": "3ca12d1a84143205601c487a0f178b893eebc9c8fab14fe8110521196fe3c8c3"
   }
  }
 },
 "nbformat": 4,
 "nbformat_minor": 2
}
